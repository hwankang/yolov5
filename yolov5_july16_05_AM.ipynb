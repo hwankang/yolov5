{
  "nbformat": 4,
  "nbformat_minor": 0,
  "metadata": {
    "colab": {
      "private_outputs": true,
      "provenance": [],
      "authorship_tag": "ABX9TyPCU310Gv2grG3joitlR7Ww",
      "include_colab_link": true
    },
    "kernelspec": {
      "name": "python3",
      "display_name": "Python 3"
    },
    "language_info": {
      "name": "python"
    }
  },
  "cells": [
    {
      "cell_type": "markdown",
      "metadata": {
        "id": "view-in-github",
        "colab_type": "text"
      },
      "source": [
        "<a href=\"https://colab.research.google.com/github/hwankang/yolov5/blob/master/yolov5_july16_05_AM.ipynb\" target=\"_parent\"><img src=\"https://colab.research.google.com/assets/colab-badge.svg\" alt=\"Open In Colab\"/></a>"
      ]
    },
    {
      "cell_type": "code",
      "execution_count": null,
      "metadata": {
        "id": "4RMIGRjDhazk"
      },
      "outputs": [],
      "source": [
        "from google.colab import drive\n",
        "drive.mount('/content/drive')"
      ]
    },
    {
      "cell_type": "code",
      "source": [
        "# 내 구글 드라이브로 이동\n",
        "#%cd \"/content/drive/MyDrive\"\n",
        "\n",
        "# Yolov5 github 레포지토리 clone\n",
        "!git clone https://github.com/ultralytics/yolov5.git\n",
        "\n",
        "# 필요한 모듈 설치\n",
        "!pip install -U -r yolov5/requirements.txt"
      ],
      "metadata": {
        "id": "NaYqMXTBhp8w"
      },
      "execution_count": null,
      "outputs": []
    },
    {
      "cell_type": "code",
      "source": [
        "import torch\n",
        "\n",
        "#파이토치 버전 확인, cuda device properties 확인\n",
        "print('torch %s %s' % (torch.__version__, torch.cuda.get_device_properties(0) if torch.cuda.is_available() else 'CPU'))"
      ],
      "metadata": {
        "id": "RsNyPIbVh92A"
      },
      "execution_count": null,
      "outputs": []
    },
    {
      "cell_type": "code",
      "source": [
        "!pip install roboflow\n",
        "\n",
        "from roboflow import Roboflow\n",
        "rf = Roboflow(api_key=\"tTGL7abYOkWcNRxTd4Yz\")\n",
        "#project = rf.workspace().project(\"프로젝트명입력\")\n",
        "project = rf.workspace(\"sule-mese\").project(\"pool-joat4\")\n",
        "#dataset = project.version(버전입력).download(\"yolov5\")\n",
        "dataset = project.version(1).download(\"yolov5\")"
      ],
      "metadata": {
        "id": "49j8EWSLiNPr"
      },
      "execution_count": null,
      "outputs": []
    },
    {
      "cell_type": "code",
      "source": [
        "from glob import glob\n",
        "\n",
        "# 이미지 경로 list로 넣기\n",
        "train_img_list = glob('./train_bong/images/*.jpg') + glob('./train_bong/images/*.jpeg')\n",
        "valid_img_list = glob('./valid_bong/images/*.jpg') + glob('./valid_bong/images/*.jpeg')\n",
        "\n",
        "# txt 파일에 write\n",
        "with open('./train.txt', 'w') as f:\n",
        "\tf.write('\\n'.join(train_img_list) + '\\n')\n",
        "\n",
        "with open('./valid.txt', 'w') as f:\n",
        "\tf.write('\\n'.join(valid_img_list) + '\\n')\n",
        ""
      ],
      "metadata": {
        "id": "yoBGpwSPjbVp"
      },
      "execution_count": null,
      "outputs": []
    },
    {
      "cell_type": "code",
      "source": [
        "!python /content/yolov5/train.py"
      ],
      "metadata": {
        "id": "IjIXq7oXj1co"
      },
      "execution_count": null,
      "outputs": []
    }
  ]
}